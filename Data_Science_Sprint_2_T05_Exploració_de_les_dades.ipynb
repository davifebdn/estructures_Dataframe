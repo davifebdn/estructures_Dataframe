{
  "nbformat": 4,
  "nbformat_minor": 0,
  "metadata": {
    "colab": {
      "name": "Data Science - Sprint 2. T05 - Exploració de les dades.ipynb",
      "provenance": [],
      "authorship_tag": "ABX9TyNeOiujxXCxNTriiBDDGdJ/",
      "include_colab_link": true
    },
    "kernelspec": {
      "name": "python3",
      "display_name": "Python 3"
    },
    "language_info": {
      "name": "python"
    }
  },
  "cells": [
    {
      "cell_type": "markdown",
      "metadata": {
        "id": "view-in-github",
        "colab_type": "text"
      },
      "source": [
        "<a href=\"https://colab.research.google.com/github/davifebdn/estructures_Dataframe/blob/main/Data_Science_Sprint_2_T05_Exploraci%C3%B3_de_les_dades.ipynb\" target=\"_parent\"><img src=\"https://colab.research.google.com/assets/colab-badge.svg\" alt=\"Open In Colab\"/></a>"
      ]
    },
    {
      "cell_type": "markdown",
      "source": [
        "# S02 T05: Exploració de les dades\n",
        "Familiaritza't amb les tècniques d'exploració de les dades mitjantçant la estructura de dades, Dataframe amb la llibreria Pandas. "
      ],
      "metadata": {
        "id": "CaOkNXXxS8N4"
      }
    },
    {
      "cell_type": "markdown",
      "source": [
        "## Nivell 1"
      ],
      "metadata": {
        "id": "fjL3Oz_US_0O"
      }
    },
    {
      "cell_type": "markdown",
      "source": [
        "### Exercici 1\n",
        "Descarrega el data set Airlines Delay: Airline on-time statistics and delay causes i carrega’l a un pandas Dataframe. Explora les dades que conté, i queda’t únicament amb les columnes que consideris rellevants."
      ],
      "metadata": {
        "id": "o1PK5uiyTDa_"
      }
    },
    {
      "cell_type": "markdown",
      "source": [
        ""
      ],
      "metadata": {
        "id": "o36L8coKTH43"
      }
    }
  ]
}